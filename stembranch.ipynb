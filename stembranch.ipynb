{
 "cells": [
  {
   "cell_type": "code",
   "execution_count": 1,
   "id": "7b7792da-af76-46ad-874e-fc11bac1f27a",
   "metadata": {},
   "outputs": [],
   "source": [
    "from stembranch import *"
   ]
  },
  {
   "cell_type": "code",
   "execution_count": 2,
   "id": "cc645377-631e-4e50-ade3-a1851d8f920c",
   "metadata": {},
   "outputs": [
    {
     "data": {
      "text/plain": [
       "'甲乙丙丁戊己庚辛壬癸'"
      ]
     },
     "execution_count": 2,
     "metadata": {},
     "output_type": "execute_result"
    }
   ],
   "source": [
    "stem"
   ]
  },
  {
   "cell_type": "code",
   "execution_count": 3,
   "id": "45b1e7d3-f9df-4748-bdcd-a09159866c91",
   "metadata": {},
   "outputs": [
    {
     "data": {
      "text/plain": [
       "'子丑寅卯辰巳午未申酉戌亥'"
      ]
     },
     "execution_count": 3,
     "metadata": {},
     "output_type": "execute_result"
    }
   ],
   "source": [
    "branch"
   ]
  },
  {
   "cell_type": "code",
   "execution_count": 4,
   "id": "a07e7851",
   "metadata": {},
   "outputs": [
    {
     "name": "stdout",
     "output_type": "stream",
     "text": [
      "甲子\n",
      "乙丑\n",
      "丙寅\n",
      "丁卯\n",
      "戊辰\n",
      "己巳\n",
      "庚午\n",
      "辛未\n",
      "壬申\n",
      "癸酉\n",
      "甲戌\n",
      "乙亥\n",
      "丙子\n",
      "丁丑\n",
      "戊寅\n",
      "己卯\n",
      "庚辰\n",
      "辛巳\n",
      "壬午\n",
      "癸未\n",
      "甲申\n",
      "乙酉\n",
      "丙戌\n",
      "丁亥\n",
      "戊子\n",
      "己丑\n",
      "庚寅\n",
      "辛卯\n",
      "壬辰\n",
      "癸巳\n",
      "甲午\n",
      "乙未\n",
      "丙申\n",
      "丁酉\n",
      "戊戌\n",
      "己亥\n",
      "庚子\n",
      "辛丑\n",
      "壬寅\n",
      "癸卯\n",
      "甲辰\n",
      "乙巳\n",
      "丙午\n",
      "丁未\n",
      "戊申\n",
      "己酉\n",
      "庚戌\n",
      "辛亥\n",
      "壬子\n",
      "癸丑\n",
      "甲寅\n",
      "乙卯\n",
      "丙辰\n",
      "丁巳\n",
      "戊午\n",
      "己未\n",
      "庚申\n",
      "辛酉\n",
      "壬戌\n",
      "癸亥\n"
     ]
    }
   ],
   "source": [
    "for k in map(lambda i,j:i+j, stem*6, branch*5):\n",
    "    print(k)"
   ]
  },
  {
   "cell_type": "code",
   "execution_count": 5,
   "id": "a4c95f68-80c2-4eef-b4ac-8efb91055ad9",
   "metadata": {},
   "outputs": [
    {
     "data": {
      "text/plain": [
       "['甲子',\n",
       " '乙丑',\n",
       " '丙寅',\n",
       " '丁卯',\n",
       " '戊辰',\n",
       " '己巳',\n",
       " '庚午',\n",
       " '辛未',\n",
       " '壬申',\n",
       " '癸酉',\n",
       " '甲戌',\n",
       " '乙亥',\n",
       " '丙子',\n",
       " '丁丑',\n",
       " '戊寅',\n",
       " '己卯',\n",
       " '庚辰',\n",
       " '辛巳',\n",
       " '壬午',\n",
       " '癸未',\n",
       " '甲申',\n",
       " '乙酉',\n",
       " '丙戌',\n",
       " '丁亥',\n",
       " '戊子',\n",
       " '己丑',\n",
       " '庚寅',\n",
       " '辛卯',\n",
       " '壬辰',\n",
       " '癸巳',\n",
       " '甲午',\n",
       " '乙未',\n",
       " '丙申',\n",
       " '丁酉',\n",
       " '戊戌',\n",
       " '己亥',\n",
       " '庚子',\n",
       " '辛丑',\n",
       " '壬寅',\n",
       " '癸卯',\n",
       " '甲辰',\n",
       " '乙巳',\n",
       " '丙午',\n",
       " '丁未',\n",
       " '戊申',\n",
       " '己酉',\n",
       " '庚戌',\n",
       " '辛亥',\n",
       " '壬子',\n",
       " '癸丑',\n",
       " '甲寅',\n",
       " '乙卯',\n",
       " '丙辰',\n",
       " '丁巳',\n",
       " '戊午',\n",
       " '己未',\n",
       " '庚申',\n",
       " '辛酉',\n",
       " '壬戌',\n",
       " '癸亥']"
      ]
     },
     "execution_count": 5,
     "metadata": {},
     "output_type": "execute_result"
    }
   ],
   "source": [
    "list(map(lambda i,j:i+j, stem*6, branch*5))"
   ]
  },
  {
   "cell_type": "code",
   "execution_count": 6,
   "id": "aa6fff9e",
   "metadata": {},
   "outputs": [
    {
     "data": {
      "text/plain": [
       "('甲子',\n",
       " '乙丑',\n",
       " '丙寅',\n",
       " '丁卯',\n",
       " '戊辰',\n",
       " '己巳',\n",
       " '庚午',\n",
       " '辛未',\n",
       " '壬申',\n",
       " '癸酉',\n",
       " '甲戌',\n",
       " '乙亥',\n",
       " '丙子',\n",
       " '丁丑',\n",
       " '戊寅',\n",
       " '己卯',\n",
       " '庚辰',\n",
       " '辛巳',\n",
       " '壬午',\n",
       " '癸未',\n",
       " '甲申',\n",
       " '乙酉',\n",
       " '丙戌',\n",
       " '丁亥',\n",
       " '戊子',\n",
       " '己丑',\n",
       " '庚寅',\n",
       " '辛卯',\n",
       " '壬辰',\n",
       " '癸巳',\n",
       " '甲午',\n",
       " '乙未',\n",
       " '丙申',\n",
       " '丁酉',\n",
       " '戊戌',\n",
       " '己亥',\n",
       " '庚子',\n",
       " '辛丑',\n",
       " '壬寅',\n",
       " '癸卯',\n",
       " '甲辰',\n",
       " '乙巳',\n",
       " '丙午',\n",
       " '丁未',\n",
       " '戊申',\n",
       " '己酉',\n",
       " '庚戌',\n",
       " '辛亥',\n",
       " '壬子',\n",
       " '癸丑',\n",
       " '甲寅',\n",
       " '乙卯',\n",
       " '丙辰',\n",
       " '丁巳',\n",
       " '戊午',\n",
       " '己未',\n",
       " '庚申',\n",
       " '辛酉',\n",
       " '壬戌',\n",
       " '癸亥')"
      ]
     },
     "execution_count": 6,
     "metadata": {},
     "output_type": "execute_result"
    }
   ],
   "source": [
    "tuple(map(lambda i,j:i+j, stem*6, branch*5))"
   ]
  },
  {
   "cell_type": "code",
   "execution_count": 7,
   "id": "f78d052c",
   "metadata": {},
   "outputs": [
    {
     "data": {
      "text/plain": [
       "['甲子',\n",
       " '乙丑',\n",
       " '丙寅',\n",
       " '丁卯',\n",
       " '戊辰',\n",
       " '己巳',\n",
       " '庚午',\n",
       " '辛未',\n",
       " '壬申',\n",
       " '癸酉',\n",
       " '甲戌',\n",
       " '乙亥',\n",
       " '丙子',\n",
       " '丁丑',\n",
       " '戊寅',\n",
       " '己卯',\n",
       " '庚辰',\n",
       " '辛巳',\n",
       " '壬午',\n",
       " '癸未',\n",
       " '甲申',\n",
       " '乙酉',\n",
       " '丙戌',\n",
       " '丁亥',\n",
       " '戊子',\n",
       " '己丑',\n",
       " '庚寅',\n",
       " '辛卯',\n",
       " '壬辰',\n",
       " '癸巳',\n",
       " '甲午',\n",
       " '乙未',\n",
       " '丙申',\n",
       " '丁酉',\n",
       " '戊戌',\n",
       " '己亥',\n",
       " '庚子',\n",
       " '辛丑',\n",
       " '壬寅',\n",
       " '癸卯',\n",
       " '甲辰',\n",
       " '乙巳',\n",
       " '丙午',\n",
       " '丁未',\n",
       " '戊申',\n",
       " '己酉',\n",
       " '庚戌',\n",
       " '辛亥',\n",
       " '壬子',\n",
       " '癸丑',\n",
       " '甲寅',\n",
       " '乙卯',\n",
       " '丙辰',\n",
       " '丁巳',\n",
       " '戊午',\n",
       " '己未',\n",
       " '庚申',\n",
       " '辛酉',\n",
       " '壬戌',\n",
       " '癸亥']"
      ]
     },
     "execution_count": 7,
     "metadata": {},
     "output_type": "execute_result"
    }
   ],
   "source": [
    "[*map(lambda i,j:i+j, stem*6, branch*5)]"
   ]
  },
  {
   "cell_type": "code",
   "execution_count": 8,
   "id": "004980aa",
   "metadata": {},
   "outputs": [
    {
     "name": "stdout",
     "output_type": "stream",
     "text": [
      "甲子 乙丑 丙寅 丁卯 戊辰 己巳 庚午 辛未 壬申 癸酉 甲戌 乙亥 丙子 丁丑 戊寅 己卯 庚辰 辛巳 壬午 癸未 甲申 乙酉 丙戌 丁亥 戊子 己丑 庚寅 辛卯 壬辰 癸巳 甲午 乙未 丙申 丁酉 戊戌 己亥 庚子 辛丑 壬寅 癸卯 甲辰 乙巳 丙午 丁未 戊申 己酉 庚戌 辛亥 壬子 癸丑 甲寅 乙卯 丙辰 丁巳 戊午 己未 庚申 辛酉 壬戌 癸亥\n"
     ]
    }
   ],
   "source": [
    "print(*map(lambda i,j:i+j, stem*6, branch*5))"
   ]
  },
  {
   "cell_type": "code",
   "execution_count": 9,
   "id": "03075f12",
   "metadata": {},
   "outputs": [
    {
     "name": "stdout",
     "output_type": "stream",
     "text": [
      "甲子\n",
      "乙丑\n",
      "丙寅\n",
      "丁卯\n",
      "戊辰\n",
      "己巳\n",
      "庚午\n",
      "辛未\n",
      "壬申\n",
      "癸酉\n",
      "甲戌\n",
      "乙亥\n",
      "丙子\n",
      "丁丑\n",
      "戊寅\n",
      "己卯\n",
      "庚辰\n",
      "辛巳\n",
      "壬午\n",
      "癸未\n",
      "甲申\n",
      "乙酉\n",
      "丙戌\n",
      "丁亥\n",
      "戊子\n",
      "己丑\n",
      "庚寅\n",
      "辛卯\n",
      "壬辰\n",
      "癸巳\n",
      "甲午\n",
      "乙未\n",
      "丙申\n",
      "丁酉\n",
      "戊戌\n",
      "己亥\n",
      "庚子\n",
      "辛丑\n",
      "壬寅\n",
      "癸卯\n",
      "甲辰\n",
      "乙巳\n",
      "丙午\n",
      "丁未\n",
      "戊申\n",
      "己酉\n",
      "庚戌\n",
      "辛亥\n",
      "壬子\n",
      "癸丑\n",
      "甲寅\n",
      "乙卯\n",
      "丙辰\n",
      "丁巳\n",
      "戊午\n",
      "己未\n",
      "庚申\n",
      "辛酉\n",
      "壬戌\n",
      "癸亥\n"
     ]
    }
   ],
   "source": [
    "for i,j in zip(stem*6, branch*5):\n",
    "    print(i+j)"
   ]
  },
  {
   "cell_type": "code",
   "execution_count": 10,
   "id": "5cade972",
   "metadata": {},
   "outputs": [
    {
     "data": {
      "text/plain": [
       "['甲子',\n",
       " '乙丑',\n",
       " '丙寅',\n",
       " '丁卯',\n",
       " '戊辰',\n",
       " '己巳',\n",
       " '庚午',\n",
       " '辛未',\n",
       " '壬申',\n",
       " '癸酉',\n",
       " '甲戌',\n",
       " '乙亥',\n",
       " '丙子',\n",
       " '丁丑',\n",
       " '戊寅',\n",
       " '己卯',\n",
       " '庚辰',\n",
       " '辛巳',\n",
       " '壬午',\n",
       " '癸未',\n",
       " '甲申',\n",
       " '乙酉',\n",
       " '丙戌',\n",
       " '丁亥',\n",
       " '戊子',\n",
       " '己丑',\n",
       " '庚寅',\n",
       " '辛卯',\n",
       " '壬辰',\n",
       " '癸巳',\n",
       " '甲午',\n",
       " '乙未',\n",
       " '丙申',\n",
       " '丁酉',\n",
       " '戊戌',\n",
       " '己亥',\n",
       " '庚子',\n",
       " '辛丑',\n",
       " '壬寅',\n",
       " '癸卯',\n",
       " '甲辰',\n",
       " '乙巳',\n",
       " '丙午',\n",
       " '丁未',\n",
       " '戊申',\n",
       " '己酉',\n",
       " '庚戌',\n",
       " '辛亥',\n",
       " '壬子',\n",
       " '癸丑',\n",
       " '甲寅',\n",
       " '乙卯',\n",
       " '丙辰',\n",
       " '丁巳',\n",
       " '戊午',\n",
       " '己未',\n",
       " '庚申',\n",
       " '辛酉',\n",
       " '壬戌',\n",
       " '癸亥']"
      ]
     },
     "execution_count": 10,
     "metadata": {},
     "output_type": "execute_result"
    }
   ],
   "source": [
    "[i+j for i,j in zip(stem*6, branch*5)]"
   ]
  },
  {
   "cell_type": "code",
   "execution_count": 11,
   "id": "43f01f62",
   "metadata": {},
   "outputs": [
    {
     "data": {
      "text/plain": [
       "['甲子',\n",
       " '乙丑',\n",
       " '丙寅',\n",
       " '丁卯',\n",
       " '戊辰',\n",
       " '己巳',\n",
       " '庚午',\n",
       " '辛未',\n",
       " '壬申',\n",
       " '癸酉',\n",
       " '甲戌',\n",
       " '乙亥',\n",
       " '丙子',\n",
       " '丁丑',\n",
       " '戊寅',\n",
       " '己卯',\n",
       " '庚辰',\n",
       " '辛巳',\n",
       " '壬午',\n",
       " '癸未',\n",
       " '甲申',\n",
       " '乙酉',\n",
       " '丙戌',\n",
       " '丁亥',\n",
       " '戊子',\n",
       " '己丑',\n",
       " '庚寅',\n",
       " '辛卯',\n",
       " '壬辰',\n",
       " '癸巳',\n",
       " '甲午',\n",
       " '乙未',\n",
       " '丙申',\n",
       " '丁酉',\n",
       " '戊戌',\n",
       " '己亥',\n",
       " '庚子',\n",
       " '辛丑',\n",
       " '壬寅',\n",
       " '癸卯',\n",
       " '甲辰',\n",
       " '乙巳',\n",
       " '丙午',\n",
       " '丁未',\n",
       " '戊申',\n",
       " '己酉',\n",
       " '庚戌',\n",
       " '辛亥',\n",
       " '壬子',\n",
       " '癸丑',\n",
       " '甲寅',\n",
       " '乙卯',\n",
       " '丙辰',\n",
       " '丁巳',\n",
       " '戊午',\n",
       " '己未',\n",
       " '庚申',\n",
       " '辛酉',\n",
       " '壬戌',\n",
       " '癸亥']"
      ]
     },
     "execution_count": 11,
     "metadata": {},
     "output_type": "execute_result"
    }
   ],
   "source": [
    "list(i+j for i,j in zip(stem*6, branch*5))"
   ]
  },
  {
   "cell_type": "code",
   "execution_count": 12,
   "id": "4e7b30d9",
   "metadata": {},
   "outputs": [
    {
     "data": {
      "text/plain": [
       "('甲子',\n",
       " '乙丑',\n",
       " '丙寅',\n",
       " '丁卯',\n",
       " '戊辰',\n",
       " '己巳',\n",
       " '庚午',\n",
       " '辛未',\n",
       " '壬申',\n",
       " '癸酉',\n",
       " '甲戌',\n",
       " '乙亥',\n",
       " '丙子',\n",
       " '丁丑',\n",
       " '戊寅',\n",
       " '己卯',\n",
       " '庚辰',\n",
       " '辛巳',\n",
       " '壬午',\n",
       " '癸未',\n",
       " '甲申',\n",
       " '乙酉',\n",
       " '丙戌',\n",
       " '丁亥',\n",
       " '戊子',\n",
       " '己丑',\n",
       " '庚寅',\n",
       " '辛卯',\n",
       " '壬辰',\n",
       " '癸巳',\n",
       " '甲午',\n",
       " '乙未',\n",
       " '丙申',\n",
       " '丁酉',\n",
       " '戊戌',\n",
       " '己亥',\n",
       " '庚子',\n",
       " '辛丑',\n",
       " '壬寅',\n",
       " '癸卯',\n",
       " '甲辰',\n",
       " '乙巳',\n",
       " '丙午',\n",
       " '丁未',\n",
       " '戊申',\n",
       " '己酉',\n",
       " '庚戌',\n",
       " '辛亥',\n",
       " '壬子',\n",
       " '癸丑',\n",
       " '甲寅',\n",
       " '乙卯',\n",
       " '丙辰',\n",
       " '丁巳',\n",
       " '戊午',\n",
       " '己未',\n",
       " '庚申',\n",
       " '辛酉',\n",
       " '壬戌',\n",
       " '癸亥')"
      ]
     },
     "execution_count": 12,
     "metadata": {},
     "output_type": "execute_result"
    }
   ],
   "source": [
    "tuple(i+j for i,j in zip(stem*6, branch*5))"
   ]
  },
  {
   "cell_type": "code",
   "execution_count": 13,
   "id": "35416c69",
   "metadata": {},
   "outputs": [
    {
     "name": "stdout",
     "output_type": "stream",
     "text": [
      "甲子 乙丑 丙寅 丁卯 戊辰 己巳 庚午 辛未 壬申 癸酉 甲戌 乙亥 丙子 丁丑 戊寅 己卯 庚辰 辛巳 壬午 癸未 甲申 乙酉 丙戌 丁亥 戊子 己丑 庚寅 辛卯 壬辰 癸巳 甲午 乙未 丙申 丁酉 戊戌 己亥 庚子 辛丑 壬寅 癸卯 甲辰 乙巳 丙午 丁未 戊申 己酉 庚戌 辛亥 壬子 癸丑 甲寅 乙卯 丙辰 丁巳 戊午 己未 庚申 辛酉 壬戌 癸亥\n"
     ]
    }
   ],
   "source": [
    "print(*(i+j for i,j in zip(stem*6, branch*5)))"
   ]
  },
  {
   "cell_type": "code",
   "execution_count": 14,
   "id": "761a311e",
   "metadata": {},
   "outputs": [
    {
     "name": "stdout",
     "output_type": "stream",
     "text": [
      "甲子\n",
      "乙丑\n",
      "丙寅\n",
      "丁卯\n",
      "戊辰\n",
      "己巳\n",
      "庚午\n",
      "辛未\n",
      "壬申\n",
      "癸酉\n",
      "甲戌\n",
      "乙亥\n",
      "丙子\n",
      "丁丑\n",
      "戊寅\n",
      "己卯\n",
      "庚辰\n",
      "辛巳\n",
      "壬午\n",
      "癸未\n",
      "甲申\n",
      "乙酉\n",
      "丙戌\n",
      "丁亥\n",
      "戊子\n",
      "己丑\n",
      "庚寅\n",
      "辛卯\n",
      "壬辰\n",
      "癸巳\n",
      "甲午\n",
      "乙未\n",
      "丙申\n",
      "丁酉\n",
      "戊戌\n",
      "己亥\n",
      "庚子\n",
      "辛丑\n",
      "壬寅\n",
      "癸卯\n",
      "甲辰\n",
      "乙巳\n",
      "丙午\n",
      "丁未\n",
      "戊申\n",
      "己酉\n",
      "庚戌\n",
      "辛亥\n",
      "壬子\n",
      "癸丑\n",
      "甲寅\n",
      "乙卯\n",
      "丙辰\n",
      "丁巳\n",
      "戊午\n",
      "己未\n",
      "庚申\n",
      "辛酉\n",
      "壬戌\n",
      "癸亥\n"
     ]
    }
   ],
   "source": [
    "for i in range(60):\n",
    "    print(stem[i%10]+branch[i%12])"
   ]
  },
  {
   "cell_type": "code",
   "execution_count": 15,
   "id": "9f249366",
   "metadata": {},
   "outputs": [
    {
     "data": {
      "text/plain": [
       "['甲子',\n",
       " '乙丑',\n",
       " '丙寅',\n",
       " '丁卯',\n",
       " '戊辰',\n",
       " '己巳',\n",
       " '庚午',\n",
       " '辛未',\n",
       " '壬申',\n",
       " '癸酉',\n",
       " '甲戌',\n",
       " '乙亥',\n",
       " '丙子',\n",
       " '丁丑',\n",
       " '戊寅',\n",
       " '己卯',\n",
       " '庚辰',\n",
       " '辛巳',\n",
       " '壬午',\n",
       " '癸未',\n",
       " '甲申',\n",
       " '乙酉',\n",
       " '丙戌',\n",
       " '丁亥',\n",
       " '戊子',\n",
       " '己丑',\n",
       " '庚寅',\n",
       " '辛卯',\n",
       " '壬辰',\n",
       " '癸巳',\n",
       " '甲午',\n",
       " '乙未',\n",
       " '丙申',\n",
       " '丁酉',\n",
       " '戊戌',\n",
       " '己亥',\n",
       " '庚子',\n",
       " '辛丑',\n",
       " '壬寅',\n",
       " '癸卯',\n",
       " '甲辰',\n",
       " '乙巳',\n",
       " '丙午',\n",
       " '丁未',\n",
       " '戊申',\n",
       " '己酉',\n",
       " '庚戌',\n",
       " '辛亥',\n",
       " '壬子',\n",
       " '癸丑',\n",
       " '甲寅',\n",
       " '乙卯',\n",
       " '丙辰',\n",
       " '丁巳',\n",
       " '戊午',\n",
       " '己未',\n",
       " '庚申',\n",
       " '辛酉',\n",
       " '壬戌',\n",
       " '癸亥']"
      ]
     },
     "execution_count": 15,
     "metadata": {},
     "output_type": "execute_result"
    }
   ],
   "source": [
    "[stem[i%10]+branch[i%12] for i in range(60)]"
   ]
  },
  {
   "cell_type": "code",
   "execution_count": 16,
   "id": "33d3bc06",
   "metadata": {},
   "outputs": [
    {
     "data": {
      "text/plain": [
       "['甲子',\n",
       " '乙丑',\n",
       " '丙寅',\n",
       " '丁卯',\n",
       " '戊辰',\n",
       " '己巳',\n",
       " '庚午',\n",
       " '辛未',\n",
       " '壬申',\n",
       " '癸酉',\n",
       " '甲戌',\n",
       " '乙亥',\n",
       " '丙子',\n",
       " '丁丑',\n",
       " '戊寅',\n",
       " '己卯',\n",
       " '庚辰',\n",
       " '辛巳',\n",
       " '壬午',\n",
       " '癸未',\n",
       " '甲申',\n",
       " '乙酉',\n",
       " '丙戌',\n",
       " '丁亥',\n",
       " '戊子',\n",
       " '己丑',\n",
       " '庚寅',\n",
       " '辛卯',\n",
       " '壬辰',\n",
       " '癸巳',\n",
       " '甲午',\n",
       " '乙未',\n",
       " '丙申',\n",
       " '丁酉',\n",
       " '戊戌',\n",
       " '己亥',\n",
       " '庚子',\n",
       " '辛丑',\n",
       " '壬寅',\n",
       " '癸卯',\n",
       " '甲辰',\n",
       " '乙巳',\n",
       " '丙午',\n",
       " '丁未',\n",
       " '戊申',\n",
       " '己酉',\n",
       " '庚戌',\n",
       " '辛亥',\n",
       " '壬子',\n",
       " '癸丑',\n",
       " '甲寅',\n",
       " '乙卯',\n",
       " '丙辰',\n",
       " '丁巳',\n",
       " '戊午',\n",
       " '己未',\n",
       " '庚申',\n",
       " '辛酉',\n",
       " '壬戌',\n",
       " '癸亥']"
      ]
     },
     "execution_count": 16,
     "metadata": {},
     "output_type": "execute_result"
    }
   ],
   "source": [
    "list(stem[i%10]+branch[i%12] for i in range(60))"
   ]
  },
  {
   "cell_type": "code",
   "execution_count": 17,
   "id": "7dd3ae9a",
   "metadata": {},
   "outputs": [
    {
     "data": {
      "text/plain": [
       "('甲子',\n",
       " '乙丑',\n",
       " '丙寅',\n",
       " '丁卯',\n",
       " '戊辰',\n",
       " '己巳',\n",
       " '庚午',\n",
       " '辛未',\n",
       " '壬申',\n",
       " '癸酉',\n",
       " '甲戌',\n",
       " '乙亥',\n",
       " '丙子',\n",
       " '丁丑',\n",
       " '戊寅',\n",
       " '己卯',\n",
       " '庚辰',\n",
       " '辛巳',\n",
       " '壬午',\n",
       " '癸未',\n",
       " '甲申',\n",
       " '乙酉',\n",
       " '丙戌',\n",
       " '丁亥',\n",
       " '戊子',\n",
       " '己丑',\n",
       " '庚寅',\n",
       " '辛卯',\n",
       " '壬辰',\n",
       " '癸巳',\n",
       " '甲午',\n",
       " '乙未',\n",
       " '丙申',\n",
       " '丁酉',\n",
       " '戊戌',\n",
       " '己亥',\n",
       " '庚子',\n",
       " '辛丑',\n",
       " '壬寅',\n",
       " '癸卯',\n",
       " '甲辰',\n",
       " '乙巳',\n",
       " '丙午',\n",
       " '丁未',\n",
       " '戊申',\n",
       " '己酉',\n",
       " '庚戌',\n",
       " '辛亥',\n",
       " '壬子',\n",
       " '癸丑',\n",
       " '甲寅',\n",
       " '乙卯',\n",
       " '丙辰',\n",
       " '丁巳',\n",
       " '戊午',\n",
       " '己未',\n",
       " '庚申',\n",
       " '辛酉',\n",
       " '壬戌',\n",
       " '癸亥')"
      ]
     },
     "execution_count": 17,
     "metadata": {},
     "output_type": "execute_result"
    }
   ],
   "source": [
    "tuple(stem[i%10]+branch[i%12] for i in range(60))"
   ]
  },
  {
   "cell_type": "code",
   "execution_count": 18,
   "id": "33b96829",
   "metadata": {},
   "outputs": [
    {
     "name": "stdout",
     "output_type": "stream",
     "text": [
      "甲子 乙丑 丙寅 丁卯 戊辰 己巳 庚午 辛未 壬申 癸酉 甲戌 乙亥 丙子 丁丑 戊寅 己卯 庚辰 辛巳 壬午 癸未 甲申 乙酉 丙戌 丁亥 戊子 己丑 庚寅 辛卯 壬辰 癸巳 甲午 乙未 丙申 丁酉 戊戌 己亥 庚子 辛丑 壬寅 癸卯 甲辰 乙巳 丙午 丁未 戊申 己酉 庚戌 辛亥 壬子 癸丑 甲寅 乙卯 丙辰 丁巳 戊午 己未 庚申 辛酉 壬戌 癸亥\n"
     ]
    }
   ],
   "source": [
    "print(*(stem[i%10]+branch[i%12] for i in range(60)))"
   ]
  },
  {
   "cell_type": "code",
   "execution_count": 19,
   "id": "3bb00e31",
   "metadata": {},
   "outputs": [
    {
     "data": {
      "text/plain": [
       "'壬寅'"
      ]
     },
     "execution_count": 19,
     "metadata": {},
     "output_type": "execute_result"
    }
   ],
   "source": [
    "stembranch(2022)"
   ]
  },
  {
   "cell_type": "code",
   "execution_count": 20,
   "id": "75b6baf6",
   "metadata": {},
   "outputs": [],
   "source": [
    "sb = StemBranch()"
   ]
  },
  {
   "cell_type": "code",
   "execution_count": 21,
   "id": "c7c05476",
   "metadata": {},
   "outputs": [
    {
     "data": {
      "text/plain": [
       "'甲乙丙丁戊己庚辛壬癸'"
      ]
     },
     "execution_count": 21,
     "metadata": {},
     "output_type": "execute_result"
    }
   ],
   "source": [
    "sb.stem"
   ]
  },
  {
   "cell_type": "code",
   "execution_count": 22,
   "id": "aaa45358",
   "metadata": {},
   "outputs": [
    {
     "data": {
      "text/plain": [
       "'子丑寅卯辰巳午未申酉戌亥'"
      ]
     },
     "execution_count": 22,
     "metadata": {},
     "output_type": "execute_result"
    }
   ],
   "source": [
    "sb.branch"
   ]
  },
  {
   "cell_type": "code",
   "execution_count": 23,
   "id": "590bac81",
   "metadata": {},
   "outputs": [
    {
     "data": {
      "text/plain": [
       "'壬寅'"
      ]
     },
     "execution_count": 23,
     "metadata": {},
     "output_type": "execute_result"
    }
   ],
   "source": [
    "sb.stembranch(2022)"
   ]
  }
 ],
 "metadata": {
  "kernelspec": {
   "display_name": "Python 3 (ipykernel)",
   "language": "python",
   "name": "python3"
  },
  "language_info": {
   "codemirror_mode": {
    "name": "ipython",
    "version": 3
   },
   "file_extension": ".py",
   "mimetype": "text/x-python",
   "name": "python",
   "nbconvert_exporter": "python",
   "pygments_lexer": "ipython3",
   "version": "3.9.6"
  }
 },
 "nbformat": 4,
 "nbformat_minor": 5
}
